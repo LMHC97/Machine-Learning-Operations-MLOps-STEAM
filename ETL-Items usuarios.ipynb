{
 "cells": [
  {
   "cell_type": "markdown",
   "metadata": {},
   "source": [
    "### Proceso de extracción, transformación y limpieza de los datos (ETL) de la base de datos de items"
   ]
  },
  {
   "cell_type": "markdown",
   "metadata": {},
   "source": [
    "Para comenzar, se agregan las librerías necesarias."
   ]
  },
  {
   "cell_type": "code",
   "execution_count": 2,
   "metadata": {},
   "outputs": [],
   "source": [
    "import pandas as pd \n",
    "import numpy as np \n",
    "import matplotlib.pyplot as plt \n",
    "import seaborn as sns\n",
    "import warnings\n",
    "import ast\n",
    "warnings.filterwarnings('ignore')\n",
    "from langdetect import detect\n",
    "import re\n",
    "from scipy import stats"
   ]
  },
  {
   "cell_type": "markdown",
   "metadata": {},
   "source": [
    "Se guarda el archivo en una variable y se carga al dataframe"
   ]
  },
  {
   "cell_type": "code",
   "execution_count": 4,
   "metadata": {},
   "outputs": [],
   "source": [
    "items_usuarios='australian_users_items.json'"
   ]
  },
  {
   "cell_type": "markdown",
   "metadata": {},
   "source": [
    "Se crea una función para leer el archivo .json"
   ]
  },
  {
   "cell_type": "code",
   "execution_count": 9,
   "metadata": {},
   "outputs": [],
   "source": [
    "def read_json_file(file_path):\n",
    "    try:\n",
    "        data_list = []\n",
    "\n",
    "        with open(file_path, 'r', encoding='utf-8') as file:\n",
    "            for line in file:\n",
    "                line = line.strip()\n",
    "                try:\n",
    "                    line_data = ast.literal_eval(line)\n",
    "                    data_list.append(line_data)\n",
    "                except (SyntaxError, ValueError) as e:\n",
    "                    print(f\"Error al evaluar la línea '{line}': {e}\")\n",
    "\n",
    "        if not data_list:\n",
    "            raise ValueError(\"El archivo JSON está vacío o no contiene datos válidos.\")\n",
    "\n",
    "        df = pd.json_normalize(data_list, 'items', ['user_id', 'items_count', 'steam_id', 'user_url'])\n",
    "\n",
    "        return df\n",
    "\n",
    "    except FileNotFoundError:\n",
    "        print(f\"Error: El archivo '{file_path}' no se encontró.\")\n",
    "    except Exception as e:\n",
    "        print(f\"Error inesperado: {e}\")"
   ]
  },
  {
   "cell_type": "code",
   "execution_count": 10,
   "metadata": {},
   "outputs": [],
   "source": [
    "df_items=read_json_file(items_usuarios)"
   ]
  },
  {
   "cell_type": "code",
   "execution_count": 11,
   "metadata": {},
   "outputs": [
    {
     "data": {
      "text/html": [
       "<div>\n",
       "<style scoped>\n",
       "    .dataframe tbody tr th:only-of-type {\n",
       "        vertical-align: middle;\n",
       "    }\n",
       "\n",
       "    .dataframe tbody tr th {\n",
       "        vertical-align: top;\n",
       "    }\n",
       "\n",
       "    .dataframe thead th {\n",
       "        text-align: right;\n",
       "    }\n",
       "</style>\n",
       "<table border=\"1\" class=\"dataframe\">\n",
       "  <thead>\n",
       "    <tr style=\"text-align: right;\">\n",
       "      <th></th>\n",
       "      <th>item_id</th>\n",
       "      <th>item_name</th>\n",
       "      <th>playtime_forever</th>\n",
       "      <th>playtime_2weeks</th>\n",
       "      <th>user_id</th>\n",
       "      <th>items_count</th>\n",
       "      <th>steam_id</th>\n",
       "      <th>user_url</th>\n",
       "    </tr>\n",
       "  </thead>\n",
       "  <tbody>\n",
       "    <tr>\n",
       "      <th>0</th>\n",
       "      <td>10</td>\n",
       "      <td>Counter-Strike</td>\n",
       "      <td>6</td>\n",
       "      <td>0</td>\n",
       "      <td>76561197970982479</td>\n",
       "      <td>277</td>\n",
       "      <td>76561197970982479</td>\n",
       "      <td>http://steamcommunity.com/profiles/76561197970...</td>\n",
       "    </tr>\n",
       "    <tr>\n",
       "      <th>1</th>\n",
       "      <td>20</td>\n",
       "      <td>Team Fortress Classic</td>\n",
       "      <td>0</td>\n",
       "      <td>0</td>\n",
       "      <td>76561197970982479</td>\n",
       "      <td>277</td>\n",
       "      <td>76561197970982479</td>\n",
       "      <td>http://steamcommunity.com/profiles/76561197970...</td>\n",
       "    </tr>\n",
       "    <tr>\n",
       "      <th>2</th>\n",
       "      <td>30</td>\n",
       "      <td>Day of Defeat</td>\n",
       "      <td>7</td>\n",
       "      <td>0</td>\n",
       "      <td>76561197970982479</td>\n",
       "      <td>277</td>\n",
       "      <td>76561197970982479</td>\n",
       "      <td>http://steamcommunity.com/profiles/76561197970...</td>\n",
       "    </tr>\n",
       "    <tr>\n",
       "      <th>3</th>\n",
       "      <td>40</td>\n",
       "      <td>Deathmatch Classic</td>\n",
       "      <td>0</td>\n",
       "      <td>0</td>\n",
       "      <td>76561197970982479</td>\n",
       "      <td>277</td>\n",
       "      <td>76561197970982479</td>\n",
       "      <td>http://steamcommunity.com/profiles/76561197970...</td>\n",
       "    </tr>\n",
       "    <tr>\n",
       "      <th>4</th>\n",
       "      <td>50</td>\n",
       "      <td>Half-Life: Opposing Force</td>\n",
       "      <td>0</td>\n",
       "      <td>0</td>\n",
       "      <td>76561197970982479</td>\n",
       "      <td>277</td>\n",
       "      <td>76561197970982479</td>\n",
       "      <td>http://steamcommunity.com/profiles/76561197970...</td>\n",
       "    </tr>\n",
       "  </tbody>\n",
       "</table>\n",
       "</div>"
      ],
      "text/plain": [
       "  item_id                  item_name  playtime_forever  playtime_2weeks  \\\n",
       "0      10             Counter-Strike                 6                0   \n",
       "1      20      Team Fortress Classic                 0                0   \n",
       "2      30              Day of Defeat                 7                0   \n",
       "3      40         Deathmatch Classic                 0                0   \n",
       "4      50  Half-Life: Opposing Force                 0                0   \n",
       "\n",
       "             user_id items_count           steam_id  \\\n",
       "0  76561197970982479         277  76561197970982479   \n",
       "1  76561197970982479         277  76561197970982479   \n",
       "2  76561197970982479         277  76561197970982479   \n",
       "3  76561197970982479         277  76561197970982479   \n",
       "4  76561197970982479         277  76561197970982479   \n",
       "\n",
       "                                            user_url  \n",
       "0  http://steamcommunity.com/profiles/76561197970...  \n",
       "1  http://steamcommunity.com/profiles/76561197970...  \n",
       "2  http://steamcommunity.com/profiles/76561197970...  \n",
       "3  http://steamcommunity.com/profiles/76561197970...  \n",
       "4  http://steamcommunity.com/profiles/76561197970...  "
      ]
     },
     "execution_count": 11,
     "metadata": {},
     "output_type": "execute_result"
    }
   ],
   "source": [
    "df_items.head(5)"
   ]
  },
  {
   "cell_type": "code",
   "execution_count": 12,
   "metadata": {},
   "outputs": [],
   "source": [
    "df_item=df_items[['user_id', 'steam_id', 'playtime_forever', 'playtime_2weeks', 'item_id', 'item_name', 'items_count']]"
   ]
  },
  {
   "cell_type": "code",
   "execution_count": 13,
   "metadata": {},
   "outputs": [
    {
     "data": {
      "text/html": [
       "<div>\n",
       "<style scoped>\n",
       "    .dataframe tbody tr th:only-of-type {\n",
       "        vertical-align: middle;\n",
       "    }\n",
       "\n",
       "    .dataframe tbody tr th {\n",
       "        vertical-align: top;\n",
       "    }\n",
       "\n",
       "    .dataframe thead th {\n",
       "        text-align: right;\n",
       "    }\n",
       "</style>\n",
       "<table border=\"1\" class=\"dataframe\">\n",
       "  <thead>\n",
       "    <tr style=\"text-align: right;\">\n",
       "      <th></th>\n",
       "      <th>user_id</th>\n",
       "      <th>steam_id</th>\n",
       "      <th>playtime_forever</th>\n",
       "      <th>playtime_2weeks</th>\n",
       "      <th>item_id</th>\n",
       "      <th>item_name</th>\n",
       "      <th>items_count</th>\n",
       "    </tr>\n",
       "  </thead>\n",
       "  <tbody>\n",
       "    <tr>\n",
       "      <th>0</th>\n",
       "      <td>76561197970982479</td>\n",
       "      <td>76561197970982479</td>\n",
       "      <td>6</td>\n",
       "      <td>0</td>\n",
       "      <td>10</td>\n",
       "      <td>Counter-Strike</td>\n",
       "      <td>277</td>\n",
       "    </tr>\n",
       "    <tr>\n",
       "      <th>1</th>\n",
       "      <td>76561197970982479</td>\n",
       "      <td>76561197970982479</td>\n",
       "      <td>0</td>\n",
       "      <td>0</td>\n",
       "      <td>20</td>\n",
       "      <td>Team Fortress Classic</td>\n",
       "      <td>277</td>\n",
       "    </tr>\n",
       "    <tr>\n",
       "      <th>2</th>\n",
       "      <td>76561197970982479</td>\n",
       "      <td>76561197970982479</td>\n",
       "      <td>7</td>\n",
       "      <td>0</td>\n",
       "      <td>30</td>\n",
       "      <td>Day of Defeat</td>\n",
       "      <td>277</td>\n",
       "    </tr>\n",
       "    <tr>\n",
       "      <th>3</th>\n",
       "      <td>76561197970982479</td>\n",
       "      <td>76561197970982479</td>\n",
       "      <td>0</td>\n",
       "      <td>0</td>\n",
       "      <td>40</td>\n",
       "      <td>Deathmatch Classic</td>\n",
       "      <td>277</td>\n",
       "    </tr>\n",
       "    <tr>\n",
       "      <th>4</th>\n",
       "      <td>76561197970982479</td>\n",
       "      <td>76561197970982479</td>\n",
       "      <td>0</td>\n",
       "      <td>0</td>\n",
       "      <td>50</td>\n",
       "      <td>Half-Life: Opposing Force</td>\n",
       "      <td>277</td>\n",
       "    </tr>\n",
       "  </tbody>\n",
       "</table>\n",
       "</div>"
      ],
      "text/plain": [
       "             user_id           steam_id  playtime_forever  playtime_2weeks  \\\n",
       "0  76561197970982479  76561197970982479                 6                0   \n",
       "1  76561197970982479  76561197970982479                 0                0   \n",
       "2  76561197970982479  76561197970982479                 7                0   \n",
       "3  76561197970982479  76561197970982479                 0                0   \n",
       "4  76561197970982479  76561197970982479                 0                0   \n",
       "\n",
       "  item_id                  item_name items_count  \n",
       "0      10             Counter-Strike         277  \n",
       "1      20      Team Fortress Classic         277  \n",
       "2      30              Day of Defeat         277  \n",
       "3      40         Deathmatch Classic         277  \n",
       "4      50  Half-Life: Opposing Force         277  "
      ]
     },
     "execution_count": 13,
     "metadata": {},
     "output_type": "execute_result"
    }
   ],
   "source": [
    "df_item.head(5)"
   ]
  },
  {
   "cell_type": "code",
   "execution_count": 14,
   "metadata": {},
   "outputs": [
    {
     "name": "stdout",
     "output_type": "stream",
     "text": [
      "<class 'pandas.core.frame.DataFrame'>\n",
      "RangeIndex: 5153209 entries, 0 to 5153208\n",
      "Data columns (total 7 columns):\n",
      " #   Column            Dtype \n",
      "---  ------            ----- \n",
      " 0   user_id           object\n",
      " 1   steam_id          object\n",
      " 2   playtime_forever  int64 \n",
      " 3   playtime_2weeks   int64 \n",
      " 4   item_id           object\n",
      " 5   item_name         object\n",
      " 6   items_count       object\n",
      "dtypes: int64(2), object(5)\n",
      "memory usage: 275.2+ MB\n"
     ]
    }
   ],
   "source": [
    "df_item.info()"
   ]
  },
  {
   "cell_type": "code",
   "execution_count": 15,
   "metadata": {},
   "outputs": [
    {
     "data": {
      "text/plain": [
       "user_id             0.0\n",
       "steam_id            0.0\n",
       "playtime_forever    0.0\n",
       "playtime_2weeks     0.0\n",
       "item_id             0.0\n",
       "item_name           0.0\n",
       "items_count         0.0\n",
       "dtype: float64"
      ]
     },
     "execution_count": 15,
     "metadata": {},
     "output_type": "execute_result"
    }
   ],
   "source": [
    "df_item.isna().sum()*100/len(df_item)"
   ]
  },
  {
   "cell_type": "code",
   "execution_count": 17,
   "metadata": {},
   "outputs": [],
   "source": [
    "df_item.replace('', np.nan,inplace=True)\n",
    "df_item.replace('', np.nan,inplace=True)"
   ]
  },
  {
   "cell_type": "code",
   "execution_count": 18,
   "metadata": {},
   "outputs": [
    {
     "data": {
      "text/plain": [
       "user_id             0.0\n",
       "steam_id            0.0\n",
       "playtime_forever    0.0\n",
       "playtime_2weeks     0.0\n",
       "item_id             0.0\n",
       "item_name           0.0\n",
       "items_count         0.0\n",
       "dtype: float64"
      ]
     },
     "execution_count": 18,
     "metadata": {},
     "output_type": "execute_result"
    }
   ],
   "source": [
    "df_item.isna().sum()*100/len(df_item)"
   ]
  },
  {
   "cell_type": "code",
   "execution_count": 19,
   "metadata": {},
   "outputs": [],
   "source": [
    "df_item['item_id'] = df_item['item_id'].astype(int) "
   ]
  },
  {
   "cell_type": "code",
   "execution_count": 20,
   "metadata": {},
   "outputs": [
    {
     "name": "stdout",
     "output_type": "stream",
     "text": [
      "<class 'pandas.core.frame.DataFrame'>\n",
      "RangeIndex: 5153209 entries, 0 to 5153208\n",
      "Data columns (total 7 columns):\n",
      " #   Column            Dtype \n",
      "---  ------            ----- \n",
      " 0   user_id           object\n",
      " 1   steam_id          object\n",
      " 2   playtime_forever  int64 \n",
      " 3   playtime_2weeks   int64 \n",
      " 4   item_id           int64 \n",
      " 5   item_name         object\n",
      " 6   items_count       object\n",
      "dtypes: int64(3), object(4)\n",
      "memory usage: 275.2+ MB\n"
     ]
    }
   ],
   "source": [
    "df_item.info()"
   ]
  },
  {
   "cell_type": "code",
   "execution_count": 22,
   "metadata": {},
   "outputs": [
    {
     "data": {
      "text/html": [
       "<div>\n",
       "<style scoped>\n",
       "    .dataframe tbody tr th:only-of-type {\n",
       "        vertical-align: middle;\n",
       "    }\n",
       "\n",
       "    .dataframe tbody tr th {\n",
       "        vertical-align: top;\n",
       "    }\n",
       "\n",
       "    .dataframe thead th {\n",
       "        text-align: right;\n",
       "    }\n",
       "</style>\n",
       "<table border=\"1\" class=\"dataframe\">\n",
       "  <thead>\n",
       "    <tr style=\"text-align: right;\">\n",
       "      <th></th>\n",
       "      <th>user_id</th>\n",
       "      <th>steam_id</th>\n",
       "      <th>playtime_forever</th>\n",
       "      <th>playtime_2weeks</th>\n",
       "      <th>item_id</th>\n",
       "      <th>item_name</th>\n",
       "      <th>items_count</th>\n",
       "    </tr>\n",
       "  </thead>\n",
       "  <tbody>\n",
       "    <tr>\n",
       "      <th>0</th>\n",
       "      <td>76561197970982479</td>\n",
       "      <td>76561197970982479</td>\n",
       "      <td>6</td>\n",
       "      <td>0</td>\n",
       "      <td>10</td>\n",
       "      <td>Counter-Strike</td>\n",
       "      <td>277</td>\n",
       "    </tr>\n",
       "    <tr>\n",
       "      <th>1</th>\n",
       "      <td>76561197970982479</td>\n",
       "      <td>76561197970982479</td>\n",
       "      <td>0</td>\n",
       "      <td>0</td>\n",
       "      <td>20</td>\n",
       "      <td>Team Fortress Classic</td>\n",
       "      <td>277</td>\n",
       "    </tr>\n",
       "    <tr>\n",
       "      <th>2</th>\n",
       "      <td>76561197970982479</td>\n",
       "      <td>76561197970982479</td>\n",
       "      <td>7</td>\n",
       "      <td>0</td>\n",
       "      <td>30</td>\n",
       "      <td>Day of Defeat</td>\n",
       "      <td>277</td>\n",
       "    </tr>\n",
       "    <tr>\n",
       "      <th>3</th>\n",
       "      <td>76561197970982479</td>\n",
       "      <td>76561197970982479</td>\n",
       "      <td>0</td>\n",
       "      <td>0</td>\n",
       "      <td>40</td>\n",
       "      <td>Deathmatch Classic</td>\n",
       "      <td>277</td>\n",
       "    </tr>\n",
       "    <tr>\n",
       "      <th>4</th>\n",
       "      <td>76561197970982479</td>\n",
       "      <td>76561197970982479</td>\n",
       "      <td>0</td>\n",
       "      <td>0</td>\n",
       "      <td>50</td>\n",
       "      <td>Half-Life: Opposing Force</td>\n",
       "      <td>277</td>\n",
       "    </tr>\n",
       "    <tr>\n",
       "      <th>...</th>\n",
       "      <td>...</td>\n",
       "      <td>...</td>\n",
       "      <td>...</td>\n",
       "      <td>...</td>\n",
       "      <td>...</td>\n",
       "      <td>...</td>\n",
       "      <td>...</td>\n",
       "    </tr>\n",
       "    <tr>\n",
       "      <th>272</th>\n",
       "      <td>76561197970982479</td>\n",
       "      <td>76561197970982479</td>\n",
       "      <td>593</td>\n",
       "      <td>0</td>\n",
       "      <td>289130</td>\n",
       "      <td>Endless Legend</td>\n",
       "      <td>277</td>\n",
       "    </tr>\n",
       "    <tr>\n",
       "      <th>273</th>\n",
       "      <td>76561197970982479</td>\n",
       "      <td>76561197970982479</td>\n",
       "      <td>1495</td>\n",
       "      <td>0</td>\n",
       "      <td>268500</td>\n",
       "      <td>XCOM 2</td>\n",
       "      <td>277</td>\n",
       "    </tr>\n",
       "    <tr>\n",
       "      <th>274</th>\n",
       "      <td>76561197970982479</td>\n",
       "      <td>76561197970982479</td>\n",
       "      <td>0</td>\n",
       "      <td>0</td>\n",
       "      <td>461640</td>\n",
       "      <td>Sins Of The Demon RPG</td>\n",
       "      <td>277</td>\n",
       "    </tr>\n",
       "    <tr>\n",
       "      <th>275</th>\n",
       "      <td>76561197970982479</td>\n",
       "      <td>76561197970982479</td>\n",
       "      <td>793</td>\n",
       "      <td>0</td>\n",
       "      <td>379720</td>\n",
       "      <td>DOOM</td>\n",
       "      <td>277</td>\n",
       "    </tr>\n",
       "    <tr>\n",
       "      <th>276</th>\n",
       "      <td>76561197970982479</td>\n",
       "      <td>76561197970982479</td>\n",
       "      <td>58</td>\n",
       "      <td>0</td>\n",
       "      <td>273350</td>\n",
       "      <td>Evolve Stage 2</td>\n",
       "      <td>277</td>\n",
       "    </tr>\n",
       "  </tbody>\n",
       "</table>\n",
       "<p>277 rows × 7 columns</p>\n",
       "</div>"
      ],
      "text/plain": [
       "               user_id           steam_id  playtime_forever  playtime_2weeks  \\\n",
       "0    76561197970982479  76561197970982479                 6                0   \n",
       "1    76561197970982479  76561197970982479                 0                0   \n",
       "2    76561197970982479  76561197970982479                 7                0   \n",
       "3    76561197970982479  76561197970982479                 0                0   \n",
       "4    76561197970982479  76561197970982479                 0                0   \n",
       "..                 ...                ...               ...              ...   \n",
       "272  76561197970982479  76561197970982479               593                0   \n",
       "273  76561197970982479  76561197970982479              1495                0   \n",
       "274  76561197970982479  76561197970982479                 0                0   \n",
       "275  76561197970982479  76561197970982479               793                0   \n",
       "276  76561197970982479  76561197970982479                58                0   \n",
       "\n",
       "     item_id                  item_name items_count  \n",
       "0         10             Counter-Strike         277  \n",
       "1         20      Team Fortress Classic         277  \n",
       "2         30              Day of Defeat         277  \n",
       "3         40         Deathmatch Classic         277  \n",
       "4         50  Half-Life: Opposing Force         277  \n",
       "..       ...                        ...         ...  \n",
       "272   289130             Endless Legend         277  \n",
       "273   268500                     XCOM 2         277  \n",
       "274   461640      Sins Of The Demon RPG         277  \n",
       "275   379720                       DOOM         277  \n",
       "276   273350             Evolve Stage 2         277  \n",
       "\n",
       "[277 rows x 7 columns]"
      ]
     },
     "execution_count": 22,
     "metadata": {},
     "output_type": "execute_result"
    }
   ],
   "source": [
    "df_item[df_item['steam_id']=='76561197970982479']"
   ]
  },
  {
   "cell_type": "markdown",
   "metadata": {},
   "source": [
    "Es posible evidenciar que la columna 'user_id' contiene valores diferentes de 'steam_id'. También se evidencia que 'user_id' es la columna que contiene valores identificadores para usuario. Al no ser relevante la columna 'steam_id' se procede a su eliminación."
   ]
  },
  {
   "cell_type": "code",
   "execution_count": 23,
   "metadata": {},
   "outputs": [],
   "source": [
    "df_items.drop(columns='steam_id', inplace=True)"
   ]
  },
  {
   "cell_type": "code",
   "execution_count": 24,
   "metadata": {},
   "outputs": [
    {
     "data": {
      "text/html": [
       "<div>\n",
       "<style scoped>\n",
       "    .dataframe tbody tr th:only-of-type {\n",
       "        vertical-align: middle;\n",
       "    }\n",
       "\n",
       "    .dataframe tbody tr th {\n",
       "        vertical-align: top;\n",
       "    }\n",
       "\n",
       "    .dataframe thead th {\n",
       "        text-align: right;\n",
       "    }\n",
       "</style>\n",
       "<table border=\"1\" class=\"dataframe\">\n",
       "  <thead>\n",
       "    <tr style=\"text-align: right;\">\n",
       "      <th></th>\n",
       "      <th>item_id</th>\n",
       "      <th>item_name</th>\n",
       "      <th>playtime_forever</th>\n",
       "      <th>playtime_2weeks</th>\n",
       "      <th>user_id</th>\n",
       "      <th>items_count</th>\n",
       "      <th>user_url</th>\n",
       "    </tr>\n",
       "  </thead>\n",
       "  <tbody>\n",
       "    <tr>\n",
       "      <th>0</th>\n",
       "      <td>10</td>\n",
       "      <td>Counter-Strike</td>\n",
       "      <td>6</td>\n",
       "      <td>0</td>\n",
       "      <td>76561197970982479</td>\n",
       "      <td>277</td>\n",
       "      <td>http://steamcommunity.com/profiles/76561197970...</td>\n",
       "    </tr>\n",
       "    <tr>\n",
       "      <th>1</th>\n",
       "      <td>20</td>\n",
       "      <td>Team Fortress Classic</td>\n",
       "      <td>0</td>\n",
       "      <td>0</td>\n",
       "      <td>76561197970982479</td>\n",
       "      <td>277</td>\n",
       "      <td>http://steamcommunity.com/profiles/76561197970...</td>\n",
       "    </tr>\n",
       "    <tr>\n",
       "      <th>2</th>\n",
       "      <td>30</td>\n",
       "      <td>Day of Defeat</td>\n",
       "      <td>7</td>\n",
       "      <td>0</td>\n",
       "      <td>76561197970982479</td>\n",
       "      <td>277</td>\n",
       "      <td>http://steamcommunity.com/profiles/76561197970...</td>\n",
       "    </tr>\n",
       "    <tr>\n",
       "      <th>3</th>\n",
       "      <td>40</td>\n",
       "      <td>Deathmatch Classic</td>\n",
       "      <td>0</td>\n",
       "      <td>0</td>\n",
       "      <td>76561197970982479</td>\n",
       "      <td>277</td>\n",
       "      <td>http://steamcommunity.com/profiles/76561197970...</td>\n",
       "    </tr>\n",
       "    <tr>\n",
       "      <th>4</th>\n",
       "      <td>50</td>\n",
       "      <td>Half-Life: Opposing Force</td>\n",
       "      <td>0</td>\n",
       "      <td>0</td>\n",
       "      <td>76561197970982479</td>\n",
       "      <td>277</td>\n",
       "      <td>http://steamcommunity.com/profiles/76561197970...</td>\n",
       "    </tr>\n",
       "  </tbody>\n",
       "</table>\n",
       "</div>"
      ],
      "text/plain": [
       "  item_id                  item_name  playtime_forever  playtime_2weeks  \\\n",
       "0      10             Counter-Strike                 6                0   \n",
       "1      20      Team Fortress Classic                 0                0   \n",
       "2      30              Day of Defeat                 7                0   \n",
       "3      40         Deathmatch Classic                 0                0   \n",
       "4      50  Half-Life: Opposing Force                 0                0   \n",
       "\n",
       "             user_id items_count  \\\n",
       "0  76561197970982479         277   \n",
       "1  76561197970982479         277   \n",
       "2  76561197970982479         277   \n",
       "3  76561197970982479         277   \n",
       "4  76561197970982479         277   \n",
       "\n",
       "                                            user_url  \n",
       "0  http://steamcommunity.com/profiles/76561197970...  \n",
       "1  http://steamcommunity.com/profiles/76561197970...  \n",
       "2  http://steamcommunity.com/profiles/76561197970...  \n",
       "3  http://steamcommunity.com/profiles/76561197970...  \n",
       "4  http://steamcommunity.com/profiles/76561197970...  "
      ]
     },
     "execution_count": 24,
     "metadata": {},
     "output_type": "execute_result"
    }
   ],
   "source": [
    "df_items.head(5)"
   ]
  },
  {
   "cell_type": "markdown",
   "metadata": {},
   "source": [
    "Se hace conteo de datos duplicados y se eliminan."
   ]
  },
  {
   "cell_type": "code",
   "execution_count": 25,
   "metadata": {},
   "outputs": [
    {
     "data": {
      "text/plain": [
       "np.int64(59104)"
      ]
     },
     "execution_count": 25,
     "metadata": {},
     "output_type": "execute_result"
    }
   ],
   "source": [
    "df_items.duplicated().sum()"
   ]
  },
  {
   "cell_type": "code",
   "execution_count": 26,
   "metadata": {},
   "outputs": [
    {
     "data": {
      "text/html": [
       "<div>\n",
       "<style scoped>\n",
       "    .dataframe tbody tr th:only-of-type {\n",
       "        vertical-align: middle;\n",
       "    }\n",
       "\n",
       "    .dataframe tbody tr th {\n",
       "        vertical-align: top;\n",
       "    }\n",
       "\n",
       "    .dataframe thead th {\n",
       "        text-align: right;\n",
       "    }\n",
       "</style>\n",
       "<table border=\"1\" class=\"dataframe\">\n",
       "  <thead>\n",
       "    <tr style=\"text-align: right;\">\n",
       "      <th></th>\n",
       "      <th>item_id</th>\n",
       "      <th>item_name</th>\n",
       "      <th>playtime_forever</th>\n",
       "      <th>playtime_2weeks</th>\n",
       "      <th>user_id</th>\n",
       "      <th>items_count</th>\n",
       "      <th>user_url</th>\n",
       "    </tr>\n",
       "  </thead>\n",
       "  <tbody>\n",
       "    <tr>\n",
       "      <th>0</th>\n",
       "      <td>10</td>\n",
       "      <td>Counter-Strike</td>\n",
       "      <td>6</td>\n",
       "      <td>0</td>\n",
       "      <td>76561197970982479</td>\n",
       "      <td>277</td>\n",
       "      <td>http://steamcommunity.com/profiles/76561197970...</td>\n",
       "    </tr>\n",
       "    <tr>\n",
       "      <th>1</th>\n",
       "      <td>20</td>\n",
       "      <td>Team Fortress Classic</td>\n",
       "      <td>0</td>\n",
       "      <td>0</td>\n",
       "      <td>76561197970982479</td>\n",
       "      <td>277</td>\n",
       "      <td>http://steamcommunity.com/profiles/76561197970...</td>\n",
       "    </tr>\n",
       "    <tr>\n",
       "      <th>2</th>\n",
       "      <td>30</td>\n",
       "      <td>Day of Defeat</td>\n",
       "      <td>7</td>\n",
       "      <td>0</td>\n",
       "      <td>76561197970982479</td>\n",
       "      <td>277</td>\n",
       "      <td>http://steamcommunity.com/profiles/76561197970...</td>\n",
       "    </tr>\n",
       "    <tr>\n",
       "      <th>3</th>\n",
       "      <td>40</td>\n",
       "      <td>Deathmatch Classic</td>\n",
       "      <td>0</td>\n",
       "      <td>0</td>\n",
       "      <td>76561197970982479</td>\n",
       "      <td>277</td>\n",
       "      <td>http://steamcommunity.com/profiles/76561197970...</td>\n",
       "    </tr>\n",
       "    <tr>\n",
       "      <th>4</th>\n",
       "      <td>50</td>\n",
       "      <td>Half-Life: Opposing Force</td>\n",
       "      <td>0</td>\n",
       "      <td>0</td>\n",
       "      <td>76561197970982479</td>\n",
       "      <td>277</td>\n",
       "      <td>http://steamcommunity.com/profiles/76561197970...</td>\n",
       "    </tr>\n",
       "  </tbody>\n",
       "</table>\n",
       "</div>"
      ],
      "text/plain": [
       "  item_id                  item_name  playtime_forever  playtime_2weeks  \\\n",
       "0      10             Counter-Strike                 6                0   \n",
       "1      20      Team Fortress Classic                 0                0   \n",
       "2      30              Day of Defeat                 7                0   \n",
       "3      40         Deathmatch Classic                 0                0   \n",
       "4      50  Half-Life: Opposing Force                 0                0   \n",
       "\n",
       "             user_id items_count  \\\n",
       "0  76561197970982479         277   \n",
       "1  76561197970982479         277   \n",
       "2  76561197970982479         277   \n",
       "3  76561197970982479         277   \n",
       "4  76561197970982479         277   \n",
       "\n",
       "                                            user_url  \n",
       "0  http://steamcommunity.com/profiles/76561197970...  \n",
       "1  http://steamcommunity.com/profiles/76561197970...  \n",
       "2  http://steamcommunity.com/profiles/76561197970...  \n",
       "3  http://steamcommunity.com/profiles/76561197970...  \n",
       "4  http://steamcommunity.com/profiles/76561197970...  "
      ]
     },
     "execution_count": 26,
     "metadata": {},
     "output_type": "execute_result"
    }
   ],
   "source": [
    "df_items.drop_duplicates(inplace=True)\n",
    "df_items.head(5)"
   ]
  },
  {
   "cell_type": "markdown",
   "metadata": {},
   "source": [
    "Se identifica que los valores de tiempo de juego están expresados en minutos. Se visualiza la distribución de 'playtime_forever' y 'playtime_2weeks'"
   ]
  },
  {
   "cell_type": "code",
   "execution_count": 27,
   "metadata": {},
   "outputs": [
    {
     "data": {
      "text/plain": [
       "playtime_forever\n",
       "0        1847730\n",
       "1         101586\n",
       "2          34391\n",
       "3          31530\n",
       "4          29127\n",
       "          ...   \n",
       "76541          1\n",
       "64676          1\n",
       "53328          1\n",
       "44029          1\n",
       "34753          1\n",
       "Name: count, Length: 48861, dtype: int64"
      ]
     },
     "execution_count": 27,
     "metadata": {},
     "output_type": "execute_result"
    }
   ],
   "source": [
    "df_items['playtime_forever'].value_counts()"
   ]
  },
  {
   "cell_type": "code",
   "execution_count": 28,
   "metadata": {},
   "outputs": [
    {
     "data": {
      "text/html": [
       "<div>\n",
       "<style scoped>\n",
       "    .dataframe tbody tr th:only-of-type {\n",
       "        vertical-align: middle;\n",
       "    }\n",
       "\n",
       "    .dataframe tbody tr th {\n",
       "        vertical-align: top;\n",
       "    }\n",
       "\n",
       "    .dataframe thead th {\n",
       "        text-align: right;\n",
       "    }\n",
       "</style>\n",
       "<table border=\"1\" class=\"dataframe\">\n",
       "  <thead>\n",
       "    <tr style=\"text-align: right;\">\n",
       "      <th></th>\n",
       "      <th>playtime_forever</th>\n",
       "      <th>playtime_2weeks</th>\n",
       "    </tr>\n",
       "  </thead>\n",
       "  <tbody>\n",
       "    <tr>\n",
       "      <th>count</th>\n",
       "      <td>5.094105e+06</td>\n",
       "      <td>5.094105e+06</td>\n",
       "    </tr>\n",
       "    <tr>\n",
       "      <th>mean</th>\n",
       "      <td>9.905511e+02</td>\n",
       "      <td>9.069004e+00</td>\n",
       "    </tr>\n",
       "    <tr>\n",
       "      <th>std</th>\n",
       "      <td>5.414297e+03</td>\n",
       "      <td>1.403145e+02</td>\n",
       "    </tr>\n",
       "    <tr>\n",
       "      <th>min</th>\n",
       "      <td>0.000000e+00</td>\n",
       "      <td>0.000000e+00</td>\n",
       "    </tr>\n",
       "    <tr>\n",
       "      <th>25%</th>\n",
       "      <td>0.000000e+00</td>\n",
       "      <td>0.000000e+00</td>\n",
       "    </tr>\n",
       "    <tr>\n",
       "      <th>50%</th>\n",
       "      <td>3.400000e+01</td>\n",
       "      <td>0.000000e+00</td>\n",
       "    </tr>\n",
       "    <tr>\n",
       "      <th>75%</th>\n",
       "      <td>3.550000e+02</td>\n",
       "      <td>0.000000e+00</td>\n",
       "    </tr>\n",
       "    <tr>\n",
       "      <th>max</th>\n",
       "      <td>6.427730e+05</td>\n",
       "      <td>1.996700e+04</td>\n",
       "    </tr>\n",
       "  </tbody>\n",
       "</table>\n",
       "</div>"
      ],
      "text/plain": [
       "       playtime_forever  playtime_2weeks\n",
       "count      5.094105e+06     5.094105e+06\n",
       "mean       9.905511e+02     9.069004e+00\n",
       "std        5.414297e+03     1.403145e+02\n",
       "min        0.000000e+00     0.000000e+00\n",
       "25%        0.000000e+00     0.000000e+00\n",
       "50%        3.400000e+01     0.000000e+00\n",
       "75%        3.550000e+02     0.000000e+00\n",
       "max        6.427730e+05     1.996700e+04"
      ]
     },
     "execution_count": 28,
     "metadata": {},
     "output_type": "execute_result"
    }
   ],
   "source": [
    "df_items[['playtime_forever', 'playtime_2weeks']].describe() "
   ]
  },
  {
   "cell_type": "code",
   "execution_count": 34,
   "metadata": {},
   "outputs": [
    {
     "data": {
      "image/png": "[encoded data removed]",
      "text/plain": [
       "<Figure size 640x480 with 1 Axes>"
      ]
     },
     "metadata": {},
     "output_type": "display_data"
    }
   ],
   "source": [
    "sns.boxplot(df_items[['playtime_forever', 'playtime_2weeks']]);"
   ]
  },
  {
   "cell_type": "code",
   "execution_count": 35,
   "metadata": {},
   "outputs": [
    {
     "data": {
      "image/png": "[encoded data removed]",
      "text/plain": [
       "<Figure size 640x480 with 1 Axes>"
      ]
     },
     "metadata": {},
     "output_type": "display_data"
    }
   ],
   "source": [
    "sns.boxplot(df_items[['playtime_forever', 'playtime_2weeks']])\n",
    "plt.ylim(0,50000);"
   ]
  },
  {
   "cell_type": "code",
   "execution_count": 36,
   "metadata": {},
   "outputs": [
    {
     "data": {
      "image/png": "[encoded data removed]",
      "text/plain": [
       "<Figure size 640x480 with 1 Axes>"
      ]
     },
     "metadata": {},
     "output_type": "display_data"
    }
   ],
   "source": [
    "sns.boxplot(df_items[['playtime_forever', 'playtime_2weeks']])\n",
    "plt.ylim(0,500);"
   ]
  },
  {
   "cell_type": "code",
   "execution_count": 39,
   "metadata": {},
   "outputs": [
    {
     "data": {
      "text/plain": [
       "(0.0, 500.0)"
      ]
     },
     "execution_count": 39,
     "metadata": {},
     "output_type": "execute_result"
    },
    {
     "data": {
      "image/png": "[encoded data removed]",
      "text/plain": [
       "<Figure size 640x480 with 1 Axes>"
      ]
     },
     "metadata": {},
     "output_type": "display_data"
    }
   ],
   "source": [
    "sns.histplot(df_items['playtime_forever'], color='#872b93')\n",
    "plt.xlim(0,500)"
   ]
  },
  {
   "cell_type": "markdown",
   "metadata": {},
   "source": [
    "Ya que los valores 0 en playtime pueden ser un indicativo de la acogida que tuvo un juego específico, decido dejarlos en el dataframe."
   ]
  },
  {
   "cell_type": "code",
   "execution_count": 40,
   "metadata": {},
   "outputs": [
    {
     "data": {
      "text/html": [
       "<div>\n",
       "<style scoped>\n",
       "    .dataframe tbody tr th:only-of-type {\n",
       "        vertical-align: middle;\n",
       "    }\n",
       "\n",
       "    .dataframe tbody tr th {\n",
       "        vertical-align: top;\n",
       "    }\n",
       "\n",
       "    .dataframe thead th {\n",
       "        text-align: right;\n",
       "    }\n",
       "</style>\n",
       "<table border=\"1\" class=\"dataframe\">\n",
       "  <thead>\n",
       "    <tr style=\"text-align: right;\">\n",
       "      <th></th>\n",
       "      <th>item_id</th>\n",
       "      <th>item_name</th>\n",
       "      <th>playtime_forever</th>\n",
       "      <th>playtime_2weeks</th>\n",
       "      <th>user_id</th>\n",
       "      <th>items_count</th>\n",
       "      <th>user_url</th>\n",
       "    </tr>\n",
       "  </thead>\n",
       "  <tbody>\n",
       "    <tr>\n",
       "      <th>0</th>\n",
       "      <td>10</td>\n",
       "      <td>Counter-Strike</td>\n",
       "      <td>6</td>\n",
       "      <td>0</td>\n",
       "      <td>76561197970982479</td>\n",
       "      <td>277</td>\n",
       "      <td>http://steamcommunity.com/profiles/76561197970...</td>\n",
       "    </tr>\n",
       "    <tr>\n",
       "      <th>1</th>\n",
       "      <td>20</td>\n",
       "      <td>Team Fortress Classic</td>\n",
       "      <td>0</td>\n",
       "      <td>0</td>\n",
       "      <td>76561197970982479</td>\n",
       "      <td>277</td>\n",
       "      <td>http://steamcommunity.com/profiles/76561197970...</td>\n",
       "    </tr>\n",
       "    <tr>\n",
       "      <th>2</th>\n",
       "      <td>30</td>\n",
       "      <td>Day of Defeat</td>\n",
       "      <td>7</td>\n",
       "      <td>0</td>\n",
       "      <td>76561197970982479</td>\n",
       "      <td>277</td>\n",
       "      <td>http://steamcommunity.com/profiles/76561197970...</td>\n",
       "    </tr>\n",
       "    <tr>\n",
       "      <th>3</th>\n",
       "      <td>40</td>\n",
       "      <td>Deathmatch Classic</td>\n",
       "      <td>0</td>\n",
       "      <td>0</td>\n",
       "      <td>76561197970982479</td>\n",
       "      <td>277</td>\n",
       "      <td>http://steamcommunity.com/profiles/76561197970...</td>\n",
       "    </tr>\n",
       "    <tr>\n",
       "      <th>4</th>\n",
       "      <td>50</td>\n",
       "      <td>Half-Life: Opposing Force</td>\n",
       "      <td>0</td>\n",
       "      <td>0</td>\n",
       "      <td>76561197970982479</td>\n",
       "      <td>277</td>\n",
       "      <td>http://steamcommunity.com/profiles/76561197970...</td>\n",
       "    </tr>\n",
       "  </tbody>\n",
       "</table>\n",
       "</div>"
      ],
      "text/plain": [
       "  item_id                  item_name  playtime_forever  playtime_2weeks  \\\n",
       "0      10             Counter-Strike                 6                0   \n",
       "1      20      Team Fortress Classic                 0                0   \n",
       "2      30              Day of Defeat                 7                0   \n",
       "3      40         Deathmatch Classic                 0                0   \n",
       "4      50  Half-Life: Opposing Force                 0                0   \n",
       "\n",
       "             user_id items_count  \\\n",
       "0  76561197970982479         277   \n",
       "1  76561197970982479         277   \n",
       "2  76561197970982479         277   \n",
       "3  76561197970982479         277   \n",
       "4  76561197970982479         277   \n",
       "\n",
       "                                            user_url  \n",
       "0  http://steamcommunity.com/profiles/76561197970...  \n",
       "1  http://steamcommunity.com/profiles/76561197970...  \n",
       "2  http://steamcommunity.com/profiles/76561197970...  \n",
       "3  http://steamcommunity.com/profiles/76561197970...  \n",
       "4  http://steamcommunity.com/profiles/76561197970...  "
      ]
     },
     "execution_count": 40,
     "metadata": {},
     "output_type": "execute_result"
    }
   ],
   "source": [
    "df_items.head(5)"
   ]
  },
  {
   "cell_type": "markdown",
   "metadata": {},
   "source": [
    "Se genera un dataframe con los datos caraterísticos ligados a cada usuario, para su uso posterior."
   ]
  },
  {
   "cell_type": "code",
   "execution_count": 42,
   "metadata": {},
   "outputs": [],
   "source": [
    "df_usuario = df_items[['user_id', 'playtime_forever', 'playtime_2weeks', 'items_count']] \n",
    "df_usuario = df_usuario.groupby('user_id').agg(sum)\n",
    "df_usuario.reset_index(inplace=True)"
   ]
  },
  {
   "cell_type": "code",
   "execution_count": 43,
   "metadata": {},
   "outputs": [
    {
     "data": {
      "text/html": [
       "<div>\n",
       "<style scoped>\n",
       "    .dataframe tbody tr th:only-of-type {\n",
       "        vertical-align: middle;\n",
       "    }\n",
       "\n",
       "    .dataframe tbody tr th {\n",
       "        vertical-align: top;\n",
       "    }\n",
       "\n",
       "    .dataframe thead th {\n",
       "        text-align: right;\n",
       "    }\n",
       "</style>\n",
       "<table border=\"1\" class=\"dataframe\">\n",
       "  <thead>\n",
       "    <tr style=\"text-align: right;\">\n",
       "      <th></th>\n",
       "      <th>user_id</th>\n",
       "      <th>playtime_forever</th>\n",
       "      <th>playtime_2weeks</th>\n",
       "      <th>items_count</th>\n",
       "    </tr>\n",
       "  </thead>\n",
       "  <tbody>\n",
       "    <tr>\n",
       "      <th>0</th>\n",
       "      <td>--000--</td>\n",
       "      <td>141027</td>\n",
       "      <td>2274</td>\n",
       "      <td>3364</td>\n",
       "    </tr>\n",
       "    <tr>\n",
       "      <th>1</th>\n",
       "      <td>--ace--</td>\n",
       "      <td>70382</td>\n",
       "      <td>0</td>\n",
       "      <td>1936</td>\n",
       "    </tr>\n",
       "    <tr>\n",
       "      <th>2</th>\n",
       "      <td>--ionex--</td>\n",
       "      <td>48084</td>\n",
       "      <td>599</td>\n",
       "      <td>529</td>\n",
       "    </tr>\n",
       "    <tr>\n",
       "      <th>3</th>\n",
       "      <td>-2SV-vuLB-Kg</td>\n",
       "      <td>54249</td>\n",
       "      <td>0</td>\n",
       "      <td>4624</td>\n",
       "    </tr>\n",
       "    <tr>\n",
       "      <th>4</th>\n",
       "      <td>-404PageNotFound-</td>\n",
       "      <td>231260</td>\n",
       "      <td>0</td>\n",
       "      <td>22201</td>\n",
       "    </tr>\n",
       "  </tbody>\n",
       "</table>\n",
       "</div>"
      ],
      "text/plain": [
       "             user_id  playtime_forever  playtime_2weeks items_count\n",
       "0            --000--            141027             2274        3364\n",
       "1            --ace--             70382                0        1936\n",
       "2          --ionex--             48084              599         529\n",
       "3       -2SV-vuLB-Kg             54249                0        4624\n",
       "4  -404PageNotFound-            231260                0       22201"
      ]
     },
     "execution_count": 43,
     "metadata": {},
     "output_type": "execute_result"
    }
   ],
   "source": [
    "df_usuario.head()"
   ]
  },
  {
   "cell_type": "code",
   "execution_count": 44,
   "metadata": {},
   "outputs": [
    {
     "data": {
      "text/plain": [
       "70912"
      ]
     },
     "execution_count": 44,
     "metadata": {},
     "output_type": "execute_result"
    }
   ],
   "source": [
    "len(df_usuario)"
   ]
  },
  {
   "cell_type": "markdown",
   "metadata": {},
   "source": [
    "No existen valores duplicados en el dataframe de datos de usuario."
   ]
  },
  {
   "cell_type": "code",
   "execution_count": 46,
   "metadata": {},
   "outputs": [
    {
     "data": {
      "text/plain": [
       "np.int64(0)"
      ]
     },
     "execution_count": 46,
     "metadata": {},
     "output_type": "execute_result"
    }
   ],
   "source": [
    "df_usuario.duplicated().sum()"
   ]
  },
  {
   "cell_type": "markdown",
   "metadata": {},
   "source": [
    "Ahora vemos el tiempo máximo de juego y su ubicación en el índice."
   ]
  },
  {
   "cell_type": "code",
   "execution_count": 47,
   "metadata": {},
   "outputs": [
    {
     "data": {
      "text/plain": [
       "np.int64(4660393)"
      ]
     },
     "execution_count": 47,
     "metadata": {},
     "output_type": "execute_result"
    }
   ],
   "source": [
    "df_usuario['playtime_forever'].max()"
   ]
  },
  {
   "cell_type": "code",
   "execution_count": 49,
   "metadata": {},
   "outputs": [
    {
     "data": {
      "text/plain": [
       "52202"
      ]
     },
     "execution_count": 49,
     "metadata": {},
     "output_type": "execute_result"
    }
   ],
   "source": [
    "df_usuario['playtime_forever'].idxmax()"
   ]
  },
  {
   "cell_type": "code",
   "execution_count": 50,
   "metadata": {},
   "outputs": [
    {
     "data": {
      "text/plain": [
       "user_id             REBAS_AS_F-T\n",
       "playtime_forever         4660393\n",
       "playtime_2weeks           223199\n",
       "items_count              3876961\n",
       "Name: 52202, dtype: object"
      ]
     },
     "execution_count": 50,
     "metadata": {},
     "output_type": "execute_result"
    }
   ],
   "source": [
    "df_usuario.loc[52202]"
   ]
  },
  {
   "cell_type": "code",
   "execution_count": 51,
   "metadata": {},
   "outputs": [
    {
     "data": {
      "text/plain": [
       "playtime_forever\n",
       "0        2509\n",
       "1         140\n",
       "2          42\n",
       "3          32\n",
       "12         30\n",
       "         ... \n",
       "24750       1\n",
       "34457       1\n",
       "3831        1\n",
       "68342       1\n",
       "61587       1\n",
       "Name: count, Length: 53201, dtype: int64"
      ]
     },
     "execution_count": 51,
     "metadata": {},
     "output_type": "execute_result"
    }
   ],
   "source": [
    "df_usuario['playtime_forever'].value_counts()"
   ]
  },
  {
   "cell_type": "markdown",
   "metadata": {},
   "source": [
    "Se exporta a parquet los dos dataframes que están en uso actualmente."
   ]
  },
  {
   "cell_type": "code",
   "execution_count": 52,
   "metadata": {},
   "outputs": [],
   "source": [
    "df_usuario.to_parquet('caracteristicasusuario.parquet')"
   ]
  },
  {
   "cell_type": "code",
   "execution_count": 53,
   "metadata": {},
   "outputs": [],
   "source": [
    "df_items.to_parquet('items_usuarios.parquet')"
   ]
  },
  {
   "cell_type": "markdown",
   "metadata": {},
   "source": [
    "Se genera un dataframe nuevo con las características de cada videojuego"
   ]
  },
  {
   "cell_type": "code",
   "execution_count": 54,
   "metadata": {},
   "outputs": [
    {
     "data": {
      "text/html": [
       "<div>\n",
       "<style scoped>\n",
       "    .dataframe tbody tr th:only-of-type {\n",
       "        vertical-align: middle;\n",
       "    }\n",
       "\n",
       "    .dataframe tbody tr th {\n",
       "        vertical-align: top;\n",
       "    }\n",
       "\n",
       "    .dataframe thead th {\n",
       "        text-align: right;\n",
       "    }\n",
       "</style>\n",
       "<table border=\"1\" class=\"dataframe\">\n",
       "  <thead>\n",
       "    <tr style=\"text-align: right;\">\n",
       "      <th></th>\n",
       "      <th>item_id</th>\n",
       "      <th>playtime_forever</th>\n",
       "      <th>playtime_2weeks</th>\n",
       "    </tr>\n",
       "  </thead>\n",
       "  <tbody>\n",
       "    <tr>\n",
       "      <th>0</th>\n",
       "      <td>10</td>\n",
       "      <td>17107858</td>\n",
       "      <td>46656</td>\n",
       "    </tr>\n",
       "    <tr>\n",
       "      <th>1</th>\n",
       "      <td>100</td>\n",
       "      <td>301732</td>\n",
       "      <td>1170</td>\n",
       "    </tr>\n",
       "    <tr>\n",
       "      <th>2</th>\n",
       "      <td>10000</td>\n",
       "      <td>62685</td>\n",
       "      <td>0</td>\n",
       "    </tr>\n",
       "    <tr>\n",
       "      <th>3</th>\n",
       "      <td>1002</td>\n",
       "      <td>894</td>\n",
       "      <td>0</td>\n",
       "    </tr>\n",
       "    <tr>\n",
       "      <th>4</th>\n",
       "      <td>10040</td>\n",
       "      <td>0</td>\n",
       "      <td>0</td>\n",
       "    </tr>\n",
       "  </tbody>\n",
       "</table>\n",
       "</div>"
      ],
      "text/plain": [
       "  item_id  playtime_forever  playtime_2weeks\n",
       "0      10          17107858            46656\n",
       "1     100            301732             1170\n",
       "2   10000             62685                0\n",
       "3    1002               894                0\n",
       "4   10040                 0                0"
      ]
     },
     "execution_count": 54,
     "metadata": {},
     "output_type": "execute_result"
    }
   ],
   "source": [
    "df_features = df_items[['item_id', 'playtime_forever', 'playtime_2weeks']]\n",
    "df_features = df_features.groupby('item_id').agg(sum)\n",
    "df_features.reset_index(inplace=True)\n",
    "df_features.head()"
   ]
  },
  {
   "cell_type": "markdown",
   "metadata": {},
   "source": [
    "Observo los juegos que no han sido jugados por los usuarios."
   ]
  },
  {
   "cell_type": "code",
   "execution_count": 55,
   "metadata": {},
   "outputs": [
    {
     "data": {
      "text/html": [
       "<div>\n",
       "<style scoped>\n",
       "    .dataframe tbody tr th:only-of-type {\n",
       "        vertical-align: middle;\n",
       "    }\n",
       "\n",
       "    .dataframe tbody tr th {\n",
       "        vertical-align: top;\n",
       "    }\n",
       "\n",
       "    .dataframe thead th {\n",
       "        text-align: right;\n",
       "    }\n",
       "</style>\n",
       "<table border=\"1\" class=\"dataframe\">\n",
       "  <thead>\n",
       "    <tr style=\"text-align: right;\">\n",
       "      <th></th>\n",
       "      <th>item_id</th>\n",
       "      <th>playtime_forever</th>\n",
       "      <th>playtime_2weeks</th>\n",
       "    </tr>\n",
       "  </thead>\n",
       "  <tbody>\n",
       "    <tr>\n",
       "      <th>4</th>\n",
       "      <td>10040</td>\n",
       "      <td>0</td>\n",
       "      <td>0</td>\n",
       "    </tr>\n",
       "    <tr>\n",
       "      <th>38</th>\n",
       "      <td>10410</td>\n",
       "      <td>0</td>\n",
       "      <td>0</td>\n",
       "    </tr>\n",
       "    <tr>\n",
       "      <th>40</th>\n",
       "      <td>10420</td>\n",
       "      <td>0</td>\n",
       "      <td>0</td>\n",
       "    </tr>\n",
       "    <tr>\n",
       "      <th>43</th>\n",
       "      <td>10440</td>\n",
       "      <td>0</td>\n",
       "      <td>0</td>\n",
       "    </tr>\n",
       "    <tr>\n",
       "      <th>46</th>\n",
       "      <td>10470</td>\n",
       "      <td>0</td>\n",
       "      <td>0</td>\n",
       "    </tr>\n",
       "    <tr>\n",
       "      <th>...</th>\n",
       "      <td>...</td>\n",
       "      <td>...</td>\n",
       "      <td>...</td>\n",
       "    </tr>\n",
       "    <tr>\n",
       "      <th>10772</th>\n",
       "      <td>7420</td>\n",
       "      <td>0</td>\n",
       "      <td>0</td>\n",
       "    </tr>\n",
       "    <tr>\n",
       "      <th>10809</th>\n",
       "      <td>8010</td>\n",
       "      <td>0</td>\n",
       "      <td>0</td>\n",
       "    </tr>\n",
       "    <tr>\n",
       "      <th>10846</th>\n",
       "      <td>8620</td>\n",
       "      <td>0</td>\n",
       "      <td>0</td>\n",
       "    </tr>\n",
       "    <tr>\n",
       "      <th>10853</th>\n",
       "      <td>8840</td>\n",
       "      <td>0</td>\n",
       "      <td>0</td>\n",
       "    </tr>\n",
       "    <tr>\n",
       "      <th>10907</th>\n",
       "      <td>94304</td>\n",
       "      <td>0</td>\n",
       "      <td>0</td>\n",
       "    </tr>\n",
       "  </tbody>\n",
       "</table>\n",
       "<p>928 rows × 3 columns</p>\n",
       "</div>"
      ],
      "text/plain": [
       "      item_id  playtime_forever  playtime_2weeks\n",
       "4       10040                 0                0\n",
       "38      10410                 0                0\n",
       "40      10420                 0                0\n",
       "43      10440                 0                0\n",
       "46      10470                 0                0\n",
       "...       ...               ...              ...\n",
       "10772    7420                 0                0\n",
       "10809    8010                 0                0\n",
       "10846    8620                 0                0\n",
       "10853    8840                 0                0\n",
       "10907   94304                 0                0\n",
       "\n",
       "[928 rows x 3 columns]"
      ]
     },
     "execution_count": 55,
     "metadata": {},
     "output_type": "execute_result"
    }
   ],
   "source": [
    "df_features[df_features['playtime_forever'] == 0]  "
   ]
  },
  {
   "cell_type": "markdown",
   "metadata": {},
   "source": [
    "Verifico si existen valores duplicados y observo la información del dataframe."
   ]
  },
  {
   "cell_type": "code",
   "execution_count": 56,
   "metadata": {},
   "outputs": [
    {
     "data": {
      "text/plain": [
       "np.int64(0)"
      ]
     },
     "execution_count": 56,
     "metadata": {},
     "output_type": "execute_result"
    }
   ],
   "source": [
    "df_features.duplicated().sum()"
   ]
  },
  {
   "cell_type": "code",
   "execution_count": 57,
   "metadata": {},
   "outputs": [
    {
     "name": "stdout",
     "output_type": "stream",
     "text": [
      "<class 'pandas.core.frame.DataFrame'>\n",
      "RangeIndex: 10978 entries, 0 to 10977\n",
      "Data columns (total 3 columns):\n",
      " #   Column            Non-Null Count  Dtype \n",
      "---  ------            --------------  ----- \n",
      " 0   item_id           10978 non-null  object\n",
      " 1   playtime_forever  10978 non-null  int64 \n",
      " 2   playtime_2weeks   10978 non-null  int64 \n",
      "dtypes: int64(2), object(1)\n",
      "memory usage: 257.4+ KB\n"
     ]
    }
   ],
   "source": [
    "df_features.info()"
   ]
  },
  {
   "cell_type": "markdown",
   "metadata": {},
   "source": [
    "Exporto este nuevo dataframe a parquet."
   ]
  },
  {
   "cell_type": "code",
   "execution_count": 58,
   "metadata": {},
   "outputs": [],
   "source": [
    "df_features.to_parquet('caracteristicas_juego.parquet')"
   ]
  },
  {
   "cell_type": "code",
   "execution_count": null,
   "metadata": {},
   "outputs": [],
   "source": []
  }
 ],
 "metadata": {
  "kernelspec": {
   "display_name": "Python 3",
   "language": "python",
   "name": "python3"
  },
  "language_info": {
   "codemirror_mode": {
    "name": "ipython",
    "version": 3
   },
   "file_extension": ".py",
   "mimetype": "text/x-python",
   "name": "python",
   "nbconvert_exporter": "python",
   "pygments_lexer": "ipython3",
   "version": "3.12.4"
  }
 },
 "nbformat": 4,
 "nbformat_minor": 2
}
